{
 "cells": [
  {
   "cell_type": "markdown",
   "metadata": {},
   "source": [
    "# Práctica de calibración de cámaras"
   ]
  },
  {
   "cell_type": "markdown",
   "metadata": {},
   "source": [
    "Visión por Computador <br>\n",
    "Practica 2. 2 de noviembre de 2020"
   ]
  },
  {
   "cell_type": "markdown",
   "metadata": {},
   "source": [
    "Este enunciado está en el archivo \"PracticaCalib2020.ipynb\" o su versión \"pdf\" que puedes encontrar en el Aula Virtual."
   ]
  },
  {
   "cell_type": "markdown",
   "metadata": {},
   "source": [
    "## Objetivos\n"
   ]
  },
  {
   "cell_type": "markdown",
   "metadata": {},
   "source": [
    "Los objetivos de esta práctica son:\n",
    "* Calibrar una cámara usando el método de calibración de Zhang, implementado en OpenCV.\n",
    "* Hacer uso de los resultados de la calibración para tomar diferentes medidas en las imágenes.\n",
    "* Calibrar una cámara a partir de una imagen de una escena en la que se desconoce las coordenadas de sus puntos."
   ]
  },
  {
   "cell_type": "markdown",
   "metadata": {},
   "source": [
    "## Requerimientos"
   ]
  },
  {
   "cell_type": "markdown",
   "metadata": {},
   "source": [
    "Para esta práctica es necesario disponer del siguiente software:\n",
    "* Python 2.7 ó 3.X \n",
    "* Jupyter http://jupyter.org/.\n",
    "* Las librerías científicas de Python: NumPy, SciPy, y Matplotlib.\n",
    "* La librería OpenCV.\n",
    "\n",
    "El material necesario para la práctica se puede descargar del Aula Virtual en la carpeta ``MaterialesPractica``. Esta\n",
    "carpeta contiene:\n",
    "* Dos secuencias de imágenes tomadas con un par de cámaras estéreo (izquierda y derecha) en los directorios ``left`` y ``right``.\n",
    "* Un conjunto de imágenes de alta resolución un edificio, ``building``."
   ]
  },
  {
   "cell_type": "markdown",
   "metadata": {},
   "source": [
    "## Condiciones"
   ]
  },
  {
   "cell_type": "markdown",
   "metadata": {},
   "source": [
    "* La fecha límite de entrega será el lunes 9 de noviembre a las 23:55.\n",
    "* La entrega consiste en dos archivos con el código, resultados y respuestas a los ejercicios:\n",
    "  1. Un \"notebook\" de Jupyter con los resultados. Las respuestas a los ejercicios debes introducirlas en tantas celdas de código o texto como creas necesarias, insertadas inmediatamente después de  un enuciado y antes del siguiente.\n",
    "  2. Un documento \"pdf\" generado a partir del fuente de Jupyter, por ejemplo usando el comando ``jupyter nbconvert --execute --to pdf notebook.ipynb``, o simplemente imprimiendo el \"notebook\" desde el navegador en la opción del menú \"File->Print preview\". Asegúrate de que el documento \"pdf\" contiene todos los resultados correctamente ejecutados.\n",
    "* Esta práctica puede realizarse en parejas."
   ]
  },
  {
   "cell_type": "markdown",
   "metadata": {},
   "source": [
    "## 1. Calibración de una cámara"
   ]
  },
  {
   "cell_type": "markdown",
   "metadata": {},
   "source": [
    "En esta parte se trabajará con la secuencia de imágenes del directorio ``left``. Esta secuencia contiene una serie de imágenes de la plantilla de calibración. Para la calibración se debe tener en cuenta que el tamaño de cada escaque de la plantilla es de 30 mm en las direcciones X e Y."
   ]
  },
  {
   "cell_type": "code",
   "execution_count": null,
   "metadata": {},
   "outputs": [],
   "source": [
    "# uncomment to show results in a window\n",
    "# %matplotlib tk\n",
    "import cv2\n",
    "import glob\n",
    "import copy\n",
    "import numpy as np\n",
    "import scipy.misc as scpm\n",
    "import matplotlib.pyplot as ppl"
   ]
  },
  {
   "cell_type": "markdown",
   "metadata": {},
   "source": [
    "Implementa la función ``load_images(filenames)`` que reciba una lista de nombres de archivos de imagen\n",
    "y las cargue como matrices de NumPy. Usa la función ``scipy.misc.imread`` para cargar las imágenes. La función\n",
    "debe devolver una lista de matrices de NumPy con las imágenes leídas."
   ]
  },
  {
   "cell_type": "code",
   "execution_count": null,
   "metadata": {},
   "outputs": [],
   "source": [
    "def load_images(filenames):\n",
    "    \"\"\"Load multiple images.\"\"\"\n",
    "    return ... TODO ..."
   ]
  },
  {
   "cell_type": "markdown",
   "metadata": {},
   "source": [
    "Usa ``load_images`` para cargar todas las imágenes del directorio ``left`` por orden alfabético (la función ``glob.glob`` permite generar la lista de nombres de archivo, y, por ejemplo, la función ``sorted()`` de Python ordena alfabéticamente una lista de cadenas de texto)."
   ]
  },
  {
   "cell_type": "code",
   "execution_count": null,
   "metadata": {},
   "outputs": [],
   "source": []
  },
  {
   "cell_type": "markdown",
   "metadata": {},
   "source": [
    "La función ``cv2.findChessboardCorners`` de\n",
    "OpenCV busca la plantilla de calibración en una imagen y\n",
    "devuelve una tupla de dos elementos. El primer elemento\n",
    "es 0 si no consiguió detectar correctamente la plantilla, y\n",
    "es 1 en caso contrario. El segundo elemento contiene las\n",
    "coordenadas de las esquinas de la plantilla de calibración,\n",
    "que sólo son válidas si la detección fue exitosa, es decir, si\n",
    "el primer elemento de la tupla es 1."
   ]
  },
  {
   "cell_type": "markdown",
   "metadata": {},
   "source": [
    "**Ejercicio 1.** Usa la  función ``cv2.findChessboardCorners``, y opcionalmente ``cv2.cornerSubPix``, para detectar automáticamente el patrón de calibración y sus esquinas en todas las imágenes cargadas. El tamaño de la plantilla de calibración en las imágenes\n",
    "de la práctica es (8, 6) (*columnas x filas*). Almacena los resultados de las múltiples llamadas en\n",
    "una lista, de modo que el elemento i de dicha lista corresponda al resultado de ``cv2.findChessboardCorners``\n",
    "para la imagen i cargada anteriormente.\n"
   ]
  },
  {
   "cell_type": "code",
   "execution_count": null,
   "metadata": {},
   "outputs": [],
   "source": [
    "corners = ... TODO ... "
   ]
  },
  {
   "cell_type": "code",
   "execution_count": null,
   "metadata": {},
   "outputs": [],
   "source": [
    "# This section is OPTIONAL\n",
    "# cornerSubPix is destructive. so we copy standard corners and use the new list to refine\n",
    "corners2 = copy.deepcopy(corners)\n",
    "\n",
    "# Refine corner estimation (images mus be in b&w, use cv2.cvtColor(img,cv2.COLOR_RGB2GRAY) to convert from rgb)\n",
    "# termination criteria (see, e.g https://docs.opencv.org/3.1.0/dc/dbb/tutorial_py_calibration.html)\n",
    "criteria = (cv2.TERM_CRITERIA_EPS + cv2.TERM_CRITERIA_MAX_ITER, 30, 0.001)\n",
    "cornersRefined = ... TODO ..."
   ]
  },
  {
   "cell_type": "markdown",
   "metadata": {},
   "source": [
    "El siguiente ejercicio consiste en dibujar sobre las imágenes los puntos detectados por ``cv.FindChessboardCorners``. Por motivos de eficiencia, la función empleada para hacerlo modifica directamente las imagen pasadas por parámetro en lugar de hacer una copia. Para evitar perder las imágenes originales es mejor realizar una copia de las mismas con antelación. Una forma de hacerlo es ``imgs2 = copy.deepcopy(imgs)``\n",
    "donde ``imgs`` es la lista de imágenes cargadas. Utiliza estas imágenes copiadas en lugar de las\n",
    "originales en el siguiente ejercicio."
   ]
  },
  {
   "cell_type": "markdown",
   "metadata": {},
   "source": [
    "**Ejercicio 2.** Usa ``cv2.drawChessboardCorners`` para dibujar las esquinas detectadas en el ejercicio anterior. Aplícalo a todas las imágenes que fueron correctamente detectadas. Ignora el resto.\n",
    "Muestra alguna de las imágenes resultantes."
   ]
  },
  {
   "cell_type": "code",
   "execution_count": null,
   "metadata": {},
   "outputs": [],
   "source": [
    "imgs2 = copy.deepcopy(imgs)\n",
    "\n",
    "... TODO ..."
   ]
  },
  {
   "cell_type": "code",
   "execution_count": null,
   "metadata": {},
   "outputs": [],
   "source": [
    "ppl.imshow(imgs2[0])"
   ]
  },
  {
   "cell_type": "code",
   "execution_count": null,
   "metadata": {},
   "outputs": [],
   "source": [
    "ppl.imshow(imgs2[1])"
   ]
  },
  {
   "cell_type": "markdown",
   "metadata": {},
   "source": [
    "Para calibrar la cámara, además de las coordenadas de\n",
    "las esquinas en cada una de las imágenes, se necesitan las\n",
    "coordenadas tridimensionales de las esquinas en el sistema\n",
    "de referencia de la escena. Para esta práctica consideraremos que el centro del sistema de referencia, esto es, el\n",
    "punto de coordenadas $[0, 0, 0]^\\top$, es la primera esquina de\n",
    "la plantilla de calibración detectada en todas las imágenes.\n",
    "También consideraremos que el eje X corresponde al lado\n",
    "corto de la plantilla de calibración, y el eje Y al lado largo.\n",
    "Esta disposición implica que el eje Z apunta en la dirección\n",
    "normal hacia arriba del plano de calibración.\n",
    "\n",
    "Para el siguiente ejercicio es muy importante tener en\n",
    "cuenta que las coordenadas de las esquinas en el sistema de\n",
    "referencia de la escena deben darse en el mismo orden que\n",
    "en el que fueron detectadas en cada una de las imágenes."
   ]
  },
  {
   "cell_type": "markdown",
   "metadata": {},
   "source": [
    "**Ejercicio 3.** Implementa la función ``get_chessboard_points(chessboard_shape, dx, dy)`` que genere una matriz de NumPy (es decir, un ndarray) de\n",
    "tamaño $N × 3$ con las coordenadas $(x,y,z)$, resp. (*columna, fila, 0*),  de las esquinas de\n",
    "la plantilla de calibración en el sistema de referencia de la\n",
    "escena. $N$ es el número de esquinas de la plantilla.\n",
    "\n",
    "``chessboard_shape`` es el número de puntos (*columnas, filas*) de la plantilla de calibración. Al igual que\n",
    "en el Ejercicio 1, debe ser (8, 6). ``dx`` (resp. ``dy``) es el ancho\n",
    "(resp. alto) de un escaque de la plantilla de calibración.\n",
    "Para la plantilla utilizada en esta práctica, ambos valores\n",
    "son 30mm."
   ]
  },
  {
   "cell_type": "code",
   "execution_count": null,
   "metadata": {},
   "outputs": [],
   "source": [
    "def get_chessboard_points(chessboard_shape, dx, dy):    \n",
    "    return ... TODO ...\n",
    "\n",
    "cb_points = get_chessboard_points(...)\n",
    "print(cb_points)"
   ]
  },
  {
   "cell_type": "markdown",
   "metadata": {},
   "source": [
    "**Ejercicio 4.** Calibra la cámara izquierda usando la lista de resultados de ``cv2.findChessboardCorners``\n",
    "y el conjunto de puntos del modelo dados por ``get_chessboard_points``, del ejercicio anterior."
   ]
  },
  {
   "cell_type": "code",
   "execution_count": null,
   "metadata": {},
   "outputs": [],
   "source": [
    "# Extract the list of valid images with all corners\n",
    "valid_corners = ... TODO ...\n",
    "num_valid_images = len(valid_corners)\n",
    "\n",
    "# Prepare input data \n",
    "# object_points: numpy array with dimensions (number_of_images, number_of_points, 3)\n",
    "object_points = ... TODO ...\n",
    "# image_points: numpy array with dimensions (number_of_images, number_of_points, 2)\n",
    "image_points = ... TODO ...\n",
    "\n",
    "# Calibrate for square pixels corners standard\n",
    "rms, intrinsics, dist_coeffs, rvecs, tvecs = cv2.calibrateCamera(... flags=cv2.CALIB_FIX_ASPECT_RATIO)\n",
    "\n",
    "print(\"Corners standard intrinsics:\\n\",intrinsics)\n",
    "print(\"Corners standerd dist_coefs:\", dist_coeffs)\n",
    "print(\"rms:\", rms)"
   ]
  },
  {
   "cell_type": "markdown",
   "metadata": {},
   "source": [
    "###  1.1 Parámetros intrínsecos"
   ]
  },
  {
   "cell_type": "markdown",
   "metadata": {},
   "source": [
    "Una de las características intrínsecas de una cámara más fácilmente comprensible es su ángulo de visión o campo\n",
    "de visión (FOV), o el campo de visión de cualquier región en ella. El campo de visión es la amplitud angular de una\n",
    "determinada escena y se suele expresar en grados. "
   ]
  },
  {
   "cell_type": "markdown",
   "metadata": {},
   "source": [
    "**Ejercicio 5.** Conociendo los intrínsecos K y que la región tiene forma rectangular, su esquina superior izquierda está en la posición (10,10) y tiene un tamaño de (50,50) píxeles, calcula el ángulo de visión diagonal que abarca dicha región.\n",
    "\n",
    "\n",
    "Resuelve en primer lugar el ejercicio analíticamente y, posteriormente, implementa dicha respuesta y calcula un resultado numérico."
   ]
  },
  {
   "cell_type": "code",
   "execution_count": null,
   "metadata": {},
   "outputs": [],
   "source": []
  },
  {
   "cell_type": "markdown",
   "metadata": {},
   "source": [
    "**Ejercicio 6.** Calcula cuánto se ha trasladado la cámara entre las imágenes ``left_002.jpg``  y ``left_0014.jpg``.\n",
    "\n",
    "Resuelve en primer lugar el ejercicio analíticamente y, posteriormente, implementa dicha respuesta y calcula un resultado numérico."
   ]
  },
  {
   "cell_type": "code",
   "execution_count": null,
   "metadata": {},
   "outputs": [],
   "source": []
  },
  {
   "cell_type": "markdown",
   "metadata": {},
   "source": [
    "## 2. Par de cámaras estéreo"
   ]
  },
  {
   "cell_type": "markdown",
   "metadata": {},
   "source": [
    "**Ejercicio 7.** ¿Cuál es la distancia, en milímetros, entre las dos cámaras de par estéreo?\n",
    "\n",
    "Resuelve en primer lugar el ejercicio analíticamente y, posteriormente, implementa dicha respuesta y calcula un resultado numérico.\n",
    "\n",
    "Sugerencia: Calibra la cámara derecha usando la secuencia de imágenes del directorio ``right`` y estima dicha distancia."
   ]
  },
  {
   "cell_type": "code",
   "execution_count": null,
   "metadata": {},
   "outputs": [],
   "source": []
  },
  {
   "cell_type": "markdown",
   "metadata": {},
   "source": [
    "## 3. Calibración a partir de una imagen"
   ]
  },
  {
   "cell_type": "markdown",
   "metadata": {},
   "source": [
    "En esta sección vamos a explotar las relaciones de perpendicularidad que suelen aparecer en las escenas urbanas para calibrar la cámara y extraer información sobre dicha escena.\n",
    "\n",
    "En el directorio ``building`` hay varias imágenes de un edificio que ha sido tomadas con la misma cámara."
   ]
  },
  {
   "cell_type": "markdown",
   "metadata": {},
   "source": [
    "**Ejercicio 7.** Se desea estimar la rotación que ha sufrido la cámara entre las imágenes ``build_001`` y ``build_003``.\n",
    "\n",
    "Resuelve en primer lugar el ejercicio analíticamente y, posteriormente, implementa dicha respuesta y calcula un resultado numérico.\n",
    "\n",
    "Sugerencia: En primer lugar estudia si es posible estimar los  intrínsecos de la cámara a partir de dichas imágenes y, a continuación, estima la rotación entre ellas."
   ]
  },
  {
   "cell_type": "code",
   "execution_count": null,
   "metadata": {},
   "outputs": [],
   "source": []
  }
 ],
 "metadata": {
  "kernelspec": {
   "display_name": "Python 3",
   "language": "python",
   "name": "python3"
  },
  "language_info": {
   "codemirror_mode": {
    "name": "ipython",
    "version": 3
   },
   "file_extension": ".py",
   "mimetype": "text/x-python",
   "name": "python",
   "nbconvert_exporter": "python",
   "pygments_lexer": "ipython3",
   "version": "3.6.9"
  }
 },
 "nbformat": 4,
 "nbformat_minor": 2
}
